{
 "cells": [
  {
   "cell_type": "markdown",
   "metadata": {},
   "source": [
    "<h1>Jack's Car Rentals</h1>"
   ]
  },
  {
   "cell_type": "code",
   "execution_count": 1,
   "metadata": {},
   "outputs": [],
   "source": [
    "import math \n",
    "import numpy as np"
   ]
  },
  {
   "cell_type": "code",
   "execution_count": 2,
   "metadata": {},
   "outputs": [],
   "source": [
    "maxAtLoc=20\n",
    "rentFee=10\n",
    "moveCost=2\n",
    "maxMove=5\n",
    "poissonDist={}\n"
   ]
  },
  {
   "cell_type": "code",
   "execution_count": 3,
   "metadata": {},
   "outputs": [],
   "source": [
    "def fact(n):\n",
    "    fact=1\n",
    "    for i in range(2,n+1):\n",
    "        fact=fact*i\n",
    "    return fact\n",
    "\n",
    "def poisson(lam,n):\n",
    "    global poissonDist\n",
    "    key=(n,lam)\n",
    "    if key not in poissonDist:\n",
    "        poissonDist[key]=(math.pow(lam,n)*math.exp(-1*lam))/fact(n)\n",
    "    return poissonDist[key]"
   ]
  },
  {
   "cell_type": "code",
   "execution_count": 8,
   "metadata": {},
   "outputs": [],
   "source": [
    "#currState=(loc1,loc2)\n",
    "#action how many cars removed\n",
    "\n",
    "def valueFunc(currState,action,stateVal):\n",
    "    ret=0\n",
    "    \n",
    "    #moving a car\n",
    "    loc1=min(currState[0]-action,maxMove)\n",
    "    loc2=min(currState[1]+action,maxMove)\n",
    "    ret=ret-moveCost*abs(action)\n",
    "\n",
    "    for rentL1 in range(0,11):\n",
    "        for rentL2 in range(0,11):\n",
    "\n",
    "            probRentL=poisson(rentL1,3)*poisson(rentL2,4)\n",
    "            possRentalL1=min(rentL1,loc1)\n",
    "            possRentalL2=min(rentL2,loc2)\n",
    "\n",
    "            \n",
    "            retL1=np.random.poisson(3)\n",
    "            retL2=np.random.poisson(2)\n",
    "\n",
    "            rew=(possRentalL1+possRentalL2)*rentFee\n",
    "            finalL1=min(maxAtLoc,loc1-possRentalL1+retL1)\n",
    "            finalL2=min(maxAtLoc,loc2-possRentalL2+retL2)\n",
    "\n",
    "            ret=ret+probRentL*(0.9*stateVal[finalL1][finalL2]+rew)\n",
    "\n",
    "def polIter():\n",
    "    stateVal=np.zeros((maxAtLoc+1,maxAtLoc+1))\n",
    "    policy=np.zeros((maxAtLoc+1,maxAtLoc+1))\n",
    "\n",
    "    steady=False\n",
    "    while not steady:\n",
    "        while True:\n",
    "            pastVal=np.copy(stateVal)\n",
    "            for x in range(maxAtLoc+1):\n",
    "                for y in range(maxAtLoc+1):\n",
    "                    stateVal[x,y]=valueFunc([x][y],policy[x][y],stateVal)\n",
    "            if np.sum(np.abs(pastVal-stateVal))<0.001:\n",
    "                break\n",
    "\n",
    "        steady=True\n",
    "        for i in range(maxAtLoc+1):\n",
    "            for j in range(maxAtLoc+1):\n",
    "                pastAct=policy[i,j]\n",
    "                actRet=[]\n",
    "                for action in range(-maxMove,maxMove+1):\n",
    "                    if (i-action) in range(maxAtLoc+1) and (j+action) in range(maxAtLoc+1):\n",
    "                        actRet.append(valueFunc([i,j],action,stateVal))\n",
    "                    else:\n",
    "                        actRet.append(float(-math.inf))\n",
    "                newAct=np.argmax(actRet)-maxMove\n",
    "                policy[i,j]=newAct\n",
    "                if not newAct==pastAct:\n",
    "                    steady=False\n",
    "    return policy,stateVal"
   ]
  },
  {
   "cell_type": "code",
   "execution_count": 9,
   "metadata": {},
   "outputs": [
    {
     "ename": "TypeError",
     "evalue": "'int' object is not subscriptable",
     "output_type": "error",
     "traceback": [
      "\u001b[1;31m---------------------------------------------------------------------------\u001b[0m",
      "\u001b[1;31mTypeError\u001b[0m                                 Traceback (most recent call last)",
      "Cell \u001b[1;32mIn[9], line 1\u001b[0m\n\u001b[1;32m----> 1\u001b[0m policy,stateVal\u001b[38;5;241m=\u001b[39m\u001b[43mpolIter\u001b[49m\u001b[43m(\u001b[49m\u001b[43m)\u001b[49m\n\u001b[0;32m      2\u001b[0m \u001b[38;5;28mprint\u001b[39m(\u001b[38;5;124mf\u001b[39m\u001b[38;5;124m\"\u001b[39m\u001b[38;5;124mpolicy:\u001b[39m\u001b[38;5;132;01m{\u001b[39;00mpolicy\u001b[38;5;132;01m}\u001b[39;00m\u001b[38;5;124m, stateVal:\u001b[39m\u001b[38;5;132;01m{\u001b[39;00mstateVal\u001b[38;5;132;01m}\u001b[39;00m\u001b[38;5;124m\"\u001b[39m)\n",
      "Cell \u001b[1;32mIn[8], line 39\u001b[0m, in \u001b[0;36mpolIter\u001b[1;34m()\u001b[0m\n\u001b[0;32m     37\u001b[0m \u001b[38;5;28;01mfor\u001b[39;00m x \u001b[38;5;129;01min\u001b[39;00m \u001b[38;5;28mrange\u001b[39m(maxAtLoc\u001b[38;5;241m+\u001b[39m\u001b[38;5;241m1\u001b[39m):\n\u001b[0;32m     38\u001b[0m     \u001b[38;5;28;01mfor\u001b[39;00m y \u001b[38;5;129;01min\u001b[39;00m \u001b[38;5;28mrange\u001b[39m(maxAtLoc\u001b[38;5;241m+\u001b[39m\u001b[38;5;241m1\u001b[39m):\n\u001b[1;32m---> 39\u001b[0m         stateVal[x,y]\u001b[38;5;241m=\u001b[39m\u001b[43mvalueFunc\u001b[49m\u001b[43m(\u001b[49m\u001b[43m[\u001b[49m\u001b[43mx\u001b[49m\u001b[43m]\u001b[49m\u001b[43m[\u001b[49m\u001b[43my\u001b[49m\u001b[43m]\u001b[49m\u001b[43m,\u001b[49m\u001b[43mpolicy\u001b[49m\u001b[43m[\u001b[49m\u001b[43mx\u001b[49m\u001b[43m]\u001b[49m\u001b[43m[\u001b[49m\u001b[43my\u001b[49m\u001b[43m]\u001b[49m\u001b[43m,\u001b[49m\u001b[43mstateVal\u001b[49m\u001b[43m)\u001b[49m\n\u001b[0;32m     40\u001b[0m \u001b[38;5;28;01mif\u001b[39;00m np\u001b[38;5;241m.\u001b[39msum(np\u001b[38;5;241m.\u001b[39mabs(pastVal\u001b[38;5;241m-\u001b[39mstateVal))\u001b[38;5;241m<\u001b[39m\u001b[38;5;241m0.001\u001b[39m:\n\u001b[0;32m     41\u001b[0m     \u001b[38;5;28;01mbreak\u001b[39;00m\n",
      "Cell \u001b[1;32mIn[8], line 8\u001b[0m, in \u001b[0;36mvalueFunc\u001b[1;34m(currState, action, stateVal)\u001b[0m\n\u001b[0;32m      5\u001b[0m ret\u001b[38;5;241m=\u001b[39m\u001b[38;5;241m0\u001b[39m\n\u001b[0;32m      7\u001b[0m \u001b[38;5;66;03m#moving a car\u001b[39;00m\n\u001b[1;32m----> 8\u001b[0m loc1\u001b[38;5;241m=\u001b[39m\u001b[38;5;28mmin\u001b[39m(\u001b[43mcurrState\u001b[49m\u001b[43m[\u001b[49m\u001b[38;5;241;43m0\u001b[39;49m\u001b[43m]\u001b[49m\u001b[38;5;241m-\u001b[39maction,maxMove)\n\u001b[0;32m      9\u001b[0m loc2\u001b[38;5;241m=\u001b[39m\u001b[38;5;28mmin\u001b[39m(currState[\u001b[38;5;241m1\u001b[39m]\u001b[38;5;241m+\u001b[39maction,maxMove)\n\u001b[0;32m     10\u001b[0m ret\u001b[38;5;241m=\u001b[39mret\u001b[38;5;241m-\u001b[39mmoveCost\u001b[38;5;241m*\u001b[39m\u001b[38;5;28mabs\u001b[39m(action)\n",
      "\u001b[1;31mTypeError\u001b[0m: 'int' object is not subscriptable"
     ]
    }
   ],
   "source": [
    "policy,stateVal=polIter()\n",
    "print(f\"policy:{policy}, stateVal:{stateVal}\")"
   ]
  },
  {
   "cell_type": "code",
   "execution_count": null,
   "metadata": {},
   "outputs": [],
   "source": []
  }
 ],
 "metadata": {
  "kernelspec": {
   "display_name": "Python 3",
   "language": "python",
   "name": "python3"
  },
  "language_info": {
   "codemirror_mode": {
    "name": "ipython",
    "version": 3
   },
   "file_extension": ".py",
   "mimetype": "text/x-python",
   "name": "python",
   "nbconvert_exporter": "python",
   "pygments_lexer": "ipython3",
   "version": "3.11.7"
  }
 },
 "nbformat": 4,
 "nbformat_minor": 2
}
